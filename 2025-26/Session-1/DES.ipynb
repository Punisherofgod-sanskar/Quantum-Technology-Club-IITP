{
 "cells": [
  {
   "cell_type": "code",
   "execution_count": 1,
   "id": "4860ef23",
   "metadata": {},
   "outputs": [],
   "source": [
    "from sequence.kernel.timeline import Timeline\n",
    "from sequence.kernel.event import Event\n",
    "from sequence.kernel.process import Process\n",
    "#import libs"
   ]
  },
  {
   "cell_type": "code",
   "execution_count": 2,
   "id": "970e251b",
   "metadata": {},
   "outputs": [],
   "source": [
    "class Store(object):\n",
    "    def __init__(self, tl: Timeline):\n",
    "        self.opening = False\n",
    "        self.timeline = tl\n",
    "    def open(self) -> None:\n",
    "        self.opening = True\n",
    "        process = Process(self, 'close', [])\n",
    "        event = Event(self.timeline.now() + 12, process)\n",
    "        print(\"Store is open at \", self.timeline.now(), \"Scheduled to close at \", self.timeline.now() + 12)\n",
    "        self.timeline.schedule(event)\n",
    "    def close(self) -> None:\n",
    "        self.opening  = False\n",
    "        process = Process(self, 'open', [])\n",
    "        event = Event(self.timeline.now() + 12, process)\n",
    "        self.timeline.schedule(event)\n",
    "        print(\"Store is close at \", self.timeline.now(), \"Scheduled to open at \", self.timeline.now() + 12)\n",
    "\n",
    "#Store class with opening and closing class funcitons"
   ]
  },
  {
   "cell_type": "code",
   "execution_count": 3,
   "id": "64f42036",
   "metadata": {},
   "outputs": [],
   "source": [
    "#Trying to schedule events\n",
    "tl = Timeline(120) #timeline created for 120 hours\n",
    "tl.show_progress = False\n",
    "store = Store(tl) #creating store on timeline\n",
    "\n",
    "open_proc = Process(store, 'open', [])\n",
    "#close_proc = Process(store, 'close', [])\n",
    "#defining process\n",
    "open_event = Event(10, open_proc)\n",
    "#close_event = Event(22, close_proc)\n",
    "#defining event\n",
    "\n",
    "tl.schedule(open_event)\n",
    "#tl.schedule(close_event)\n",
    "#scheduling, ordering doesnt matter"
   ]
  },
  {
   "cell_type": "code",
   "execution_count": 4,
   "id": "ce9bd2c6",
   "metadata": {},
   "outputs": [
    {
     "name": "stdout",
     "output_type": "stream",
     "text": [
      "Store is open at  10 Scheduled to close at  22\n",
      "Store is close at  22 Scheduled to open at  34\n",
      "Store is open at  34 Scheduled to close at  46\n",
      "Store is close at  46 Scheduled to open at  58\n",
      "Store is open at  58 Scheduled to close at  70\n",
      "Store is close at  70 Scheduled to open at  82\n",
      "Store is open at  82 Scheduled to close at  94\n",
      "Store is close at  94 Scheduled to open at  106\n",
      "Store is open at  106 Scheduled to close at  118\n",
      "Store is close at  118 Scheduled to open at  130\n",
      "False\n"
     ]
    }
   ],
   "source": [
    "tl.run()\n",
    "print(store.opening)"
   ]
  },
  {
   "cell_type": "code",
   "execution_count": null,
   "id": "29bb6267",
   "metadata": {},
   "outputs": [],
   "source": []
  }
 ],
 "metadata": {
  "kernelspec": {
   "display_name": "seqenv",
   "language": "python",
   "name": "python3"
  },
  "language_info": {
   "codemirror_mode": {
    "name": "ipython",
    "version": 3
   },
   "file_extension": ".py",
   "mimetype": "text/x-python",
   "name": "python",
   "nbconvert_exporter": "python",
   "pygments_lexer": "ipython3",
   "version": "3.13.5"
  }
 },
 "nbformat": 4,
 "nbformat_minor": 5
}
